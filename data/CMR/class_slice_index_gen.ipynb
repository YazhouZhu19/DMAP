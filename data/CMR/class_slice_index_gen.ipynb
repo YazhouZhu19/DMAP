{
 "cells": [
  {
   "cell_type": "markdown",
   "metadata": {},
   "source": [
    "## Generate class-slice indexing table for experiments\n",
    "\n",
    "\n",
    "### Overview\n",
    "\n",
    "This is for experiment setting up for simulating few-shot image segmentation scenarios\n",
    "\n",
    "Input: pre-processed images and their ground-truth labels\n",
    "\n",
    "Output: a `json` file for class-slice indexing"
   ]
  },
  {
   "cell_type": "code",
   "execution_count": 8,
   "metadata": {},
   "outputs": [
    {
     "name": "stdout",
     "output_type": "stream",
     "text": [
      "Once deleted, variables cannot be recovered. Proceed (y/[n])? y\n",
      "The autoreload extension is already loaded. To reload it, use:\n",
      "  %reload_ext autoreload\n"
     ]
    }
   ],
   "source": [
    "%reset\n",
    "%load_ext autoreload\n",
    "%autoreload 2\n",
    "import numpy as np\n",
    "import os\n",
    "import glob\n",
    "import SimpleITK as sitk\n",
    "import sys\n",
    "import json\n",
    "sys.path.insert(0, '../../dataloaders/')\n",
    "import niftiio as nio"
   ]
  },
  {
   "cell_type": "code",
   "execution_count": 9,
   "metadata": {},
   "outputs": [],
   "source": [
    "IMG_BNAME=\"./cmr_MR_normalized/image_*.nii.gz\"\n",
    "SEG_BNAME=\"./cmr_MR_normalized/label_*.nii.gz\""
   ]
  },
  {
   "cell_type": "code",
   "execution_count": 10,
   "metadata": {},
   "outputs": [],
   "source": [
    "imgs = glob.glob(IMG_BNAME)\n",
    "segs = glob.glob(SEG_BNAME)\n",
    "imgs = [ fid for fid in sorted(imgs, key = lambda x: int(x.split(\"_\")[-1].split(\".nii.gz\")[0])  ) ]\n",
    "segs = [ fid for fid in sorted(segs, key = lambda x: int(x.split(\"_\")[-1].split(\".nii.gz\")[0])  ) ]\n"
   ]
  },
  {
   "cell_type": "code",
   "execution_count": 11,
   "metadata": {},
   "outputs": [
    {
     "data": {
      "text/plain": [
       "['./cmr_MR_normalized/image_1.nii.gz',\n",
       " './cmr_MR_normalized/image_2.nii.gz',\n",
       " './cmr_MR_normalized/image_3.nii.gz',\n",
       " './cmr_MR_normalized/image_4.nii.gz',\n",
       " './cmr_MR_normalized/image_5.nii.gz',\n",
       " './cmr_MR_normalized/image_6.nii.gz',\n",
       " './cmr_MR_normalized/image_7.nii.gz',\n",
       " './cmr_MR_normalized/image_8.nii.gz',\n",
       " './cmr_MR_normalized/image_9.nii.gz',\n",
       " './cmr_MR_normalized/image_10.nii.gz',\n",
       " './cmr_MR_normalized/image_11.nii.gz',\n",
       " './cmr_MR_normalized/image_12.nii.gz',\n",
       " './cmr_MR_normalized/image_13.nii.gz',\n",
       " './cmr_MR_normalized/image_14.nii.gz',\n",
       " './cmr_MR_normalized/image_15.nii.gz',\n",
       " './cmr_MR_normalized/image_16.nii.gz',\n",
       " './cmr_MR_normalized/image_17.nii.gz',\n",
       " './cmr_MR_normalized/image_18.nii.gz',\n",
       " './cmr_MR_normalized/image_19.nii.gz',\n",
       " './cmr_MR_normalized/image_20.nii.gz',\n",
       " './cmr_MR_normalized/image_21.nii.gz',\n",
       " './cmr_MR_normalized/image_22.nii.gz',\n",
       " './cmr_MR_normalized/image_23.nii.gz',\n",
       " './cmr_MR_normalized/image_24.nii.gz',\n",
       " './cmr_MR_normalized/image_25.nii.gz',\n",
       " './cmr_MR_normalized/image_26.nii.gz',\n",
       " './cmr_MR_normalized/image_27.nii.gz',\n",
       " './cmr_MR_normalized/image_28.nii.gz',\n",
       " './cmr_MR_normalized/image_29.nii.gz',\n",
       " './cmr_MR_normalized/image_30.nii.gz',\n",
       " './cmr_MR_normalized/image_31.nii.gz',\n",
       " './cmr_MR_normalized/image_32.nii.gz',\n",
       " './cmr_MR_normalized/image_33.nii.gz',\n",
       " './cmr_MR_normalized/image_34.nii.gz',\n",
       " './cmr_MR_normalized/image_35.nii.gz']"
      ]
     },
     "execution_count": 11,
     "metadata": {},
     "output_type": "execute_result"
    }
   ],
   "source": [
    "imgs"
   ]
  },
  {
   "cell_type": "code",
   "execution_count": 12,
   "metadata": {},
   "outputs": [
    {
     "data": {
      "text/plain": [
       "['./cmr_MR_normalized/label_1.nii.gz',\n",
       " './cmr_MR_normalized/label_2.nii.gz',\n",
       " './cmr_MR_normalized/label_3.nii.gz',\n",
       " './cmr_MR_normalized/label_4.nii.gz',\n",
       " './cmr_MR_normalized/label_5.nii.gz',\n",
       " './cmr_MR_normalized/label_6.nii.gz',\n",
       " './cmr_MR_normalized/label_7.nii.gz',\n",
       " './cmr_MR_normalized/label_8.nii.gz',\n",
       " './cmr_MR_normalized/label_9.nii.gz',\n",
       " './cmr_MR_normalized/label_10.nii.gz',\n",
       " './cmr_MR_normalized/label_11.nii.gz',\n",
       " './cmr_MR_normalized/label_12.nii.gz',\n",
       " './cmr_MR_normalized/label_13.nii.gz',\n",
       " './cmr_MR_normalized/label_14.nii.gz',\n",
       " './cmr_MR_normalized/label_15.nii.gz',\n",
       " './cmr_MR_normalized/label_16.nii.gz',\n",
       " './cmr_MR_normalized/label_17.nii.gz',\n",
       " './cmr_MR_normalized/label_18.nii.gz',\n",
       " './cmr_MR_normalized/label_19.nii.gz',\n",
       " './cmr_MR_normalized/label_20.nii.gz',\n",
       " './cmr_MR_normalized/label_21.nii.gz',\n",
       " './cmr_MR_normalized/label_22.nii.gz',\n",
       " './cmr_MR_normalized/label_23.nii.gz',\n",
       " './cmr_MR_normalized/label_24.nii.gz',\n",
       " './cmr_MR_normalized/label_25.nii.gz',\n",
       " './cmr_MR_normalized/label_26.nii.gz',\n",
       " './cmr_MR_normalized/label_27.nii.gz',\n",
       " './cmr_MR_normalized/label_28.nii.gz',\n",
       " './cmr_MR_normalized/label_29.nii.gz',\n",
       " './cmr_MR_normalized/label_30.nii.gz',\n",
       " './cmr_MR_normalized/label_31.nii.gz',\n",
       " './cmr_MR_normalized/label_32.nii.gz',\n",
       " './cmr_MR_normalized/label_33.nii.gz',\n",
       " './cmr_MR_normalized/label_34.nii.gz',\n",
       " './cmr_MR_normalized/label_35.nii.gz']"
      ]
     },
     "execution_count": 12,
     "metadata": {},
     "output_type": "execute_result"
    }
   ],
   "source": [
    "segs"
   ]
  },
  {
   "cell_type": "code",
   "execution_count": 13,
   "metadata": {},
   "outputs": [
    {
     "name": "stdout",
     "output_type": "stream",
     "text": [
      "pid 1 finished!\n",
      "pid 2 finished!\n",
      "pid 3 finished!\n",
      "pid 4 finished!\n",
      "pid 5 finished!\n",
      "pid 6 finished!\n",
      "pid 7 finished!\n",
      "pid 8 finished!\n",
      "pid 9 finished!\n",
      "pid 10 finished!\n",
      "pid 11 finished!\n",
      "pid 12 finished!\n",
      "pid 13 finished!\n",
      "pid 14 finished!\n",
      "pid 15 finished!\n",
      "pid 16 finished!\n",
      "pid 17 finished!\n",
      "pid 18 finished!\n",
      "pid 19 finished!\n",
      "pid 20 finished!\n",
      "pid 21 finished!\n",
      "pid 22 finished!\n",
      "pid 23 finished!\n",
      "pid 24 finished!\n",
      "pid 25 finished!\n",
      "pid 26 finished!\n",
      "pid 27 finished!\n",
      "pid 28 finished!\n",
      "pid 29 finished!\n",
      "pid 30 finished!\n",
      "pid 31 finished!\n",
      "pid 32 finished!\n",
      "pid 33 finished!\n",
      "pid 34 finished!\n",
      "pid 35 finished!\n"
     ]
    },
    {
     "ename": "FileNotFoundError",
     "evalue": "[Errno 2] No such file or directory: './chaos_MR_T2_normalized/classmap_1.json'",
     "output_type": "error",
     "traceback": [
      "\u001b[0;31m---------------------------------------------------------------------------\u001b[0m",
      "\u001b[0;31mFileNotFoundError\u001b[0m                         Traceback (most recent call last)",
      "\u001b[0;32m/tmp/ipykernel_1065506/1189938079.py\u001b[0m in \u001b[0;36m<module>\u001b[0;34m\u001b[0m\n\u001b[1;32m     26\u001b[0m     \u001b[0mprint\u001b[0m\u001b[0;34m(\u001b[0m\u001b[0;34mf'pid {str(pid)} finished!'\u001b[0m\u001b[0;34m)\u001b[0m\u001b[0;34m\u001b[0m\u001b[0;34m\u001b[0m\u001b[0m\n\u001b[1;32m     27\u001b[0m \u001b[0;34m\u001b[0m\u001b[0m\n\u001b[0;32m---> 28\u001b[0;31m \u001b[0;32mwith\u001b[0m \u001b[0mopen\u001b[0m\u001b[0;34m(\u001b[0m\u001b[0mfid\u001b[0m\u001b[0;34m,\u001b[0m \u001b[0;34m'w'\u001b[0m\u001b[0;34m)\u001b[0m \u001b[0;32mas\u001b[0m \u001b[0mfopen\u001b[0m\u001b[0;34m:\u001b[0m\u001b[0;34m\u001b[0m\u001b[0;34m\u001b[0m\u001b[0m\n\u001b[0m\u001b[1;32m     29\u001b[0m     \u001b[0mjson\u001b[0m\u001b[0;34m.\u001b[0m\u001b[0mdump\u001b[0m\u001b[0;34m(\u001b[0m\u001b[0mclassmap\u001b[0m\u001b[0;34m,\u001b[0m \u001b[0mfopen\u001b[0m\u001b[0;34m)\u001b[0m\u001b[0;34m\u001b[0m\u001b[0;34m\u001b[0m\u001b[0m\n\u001b[1;32m     30\u001b[0m     \u001b[0mfopen\u001b[0m\u001b[0;34m.\u001b[0m\u001b[0mclose\u001b[0m\u001b[0;34m(\u001b[0m\u001b[0;34m)\u001b[0m\u001b[0;34m\u001b[0m\u001b[0;34m\u001b[0m\u001b[0m\n",
      "\u001b[0;31mFileNotFoundError\u001b[0m: [Errno 2] No such file or directory: './chaos_MR_T2_normalized/classmap_1.json'"
     ]
    }
   ],
   "source": [
    "classmap = {}\n",
    "LABEL_NAME = [\"BG\", \"LV-MYO\", \"LV-BP\", \"RV\"]     \n",
    "\n",
    "\n",
    "MIN_TP = 1 # minimum number of positive label pixels to be recorded. Use >100 when training with manual annotations for more stable training\n",
    "\n",
    "fid = f'./chaos_MR_T2_normalized/classmap_{MIN_TP}.json' # name of the output file. \n",
    "for _lb in LABEL_NAME:\n",
    "    classmap[_lb] = {}\n",
    "    for _sid in segs:\n",
    "        pid = _sid.split(\"_\")[-1].split(\".nii.gz\")[0]\n",
    "        classmap[_lb][pid] = []\n",
    "\n",
    "for seg in segs:\n",
    "    pid = seg.split(\"_\")[-1].split(\".nii.gz\")[0]\n",
    "    lb_vol = nio.read_nii_bysitk(seg)\n",
    "    n_slice = lb_vol.shape[0]\n",
    "    lb_vol[lb_vol == 200] = 1\n",
    "    lb_vol[lb_vol == 500] = 2\n",
    "    lb_vol[lb_vol == 600] = 3\n",
    "    for slc in range(n_slice):\n",
    "        for cls in range(len(LABEL_NAME)):\n",
    "            if cls in lb_vol[slc, ...]:\n",
    "                if np.sum( lb_vol[slc, ...]) >= MIN_TP:\n",
    "                    classmap[LABEL_NAME[cls]][str(pid)].append(slc)\n",
    "    print(f'pid {str(pid)} finished!')\n",
    "    \n",
    "with open(fid, 'w') as fopen:\n",
    "    json.dump(classmap, fopen)\n",
    "    fopen.close()  \n",
    "    "
   ]
  },
  {
   "cell_type": "code",
   "execution_count": 9,
   "metadata": {},
   "outputs": [
    {
     "ename": "FileNotFoundError",
     "evalue": "[Errno 2] No such file or directory: './chaos_MR_T2_normalized/classmap_1.json'",
     "output_type": "error",
     "traceback": [
      "\u001b[0;31m---------------------------------------------------------------------------\u001b[0m",
      "\u001b[0;31mFileNotFoundError\u001b[0m                         Traceback (most recent call last)",
      "\u001b[0;32m/tmp/ipykernel_1045184/825143362.py\u001b[0m in \u001b[0;36m<module>\u001b[0;34m\u001b[0m\n\u001b[0;32m----> 1\u001b[0;31m \u001b[0;32mwith\u001b[0m \u001b[0mopen\u001b[0m\u001b[0;34m(\u001b[0m\u001b[0mfid\u001b[0m\u001b[0;34m,\u001b[0m \u001b[0;34m'w'\u001b[0m\u001b[0;34m)\u001b[0m \u001b[0;32mas\u001b[0m \u001b[0mfopen\u001b[0m\u001b[0;34m:\u001b[0m\u001b[0;34m\u001b[0m\u001b[0;34m\u001b[0m\u001b[0m\n\u001b[0m\u001b[1;32m      2\u001b[0m     \u001b[0mjson\u001b[0m\u001b[0;34m.\u001b[0m\u001b[0mdump\u001b[0m\u001b[0;34m(\u001b[0m\u001b[0mclassmap\u001b[0m\u001b[0;34m,\u001b[0m \u001b[0mfopen\u001b[0m\u001b[0;34m)\u001b[0m\u001b[0;34m\u001b[0m\u001b[0;34m\u001b[0m\u001b[0m\n\u001b[1;32m      3\u001b[0m     \u001b[0mfopen\u001b[0m\u001b[0;34m.\u001b[0m\u001b[0mclose\u001b[0m\u001b[0;34m(\u001b[0m\u001b[0;34m)\u001b[0m\u001b[0;34m\u001b[0m\u001b[0;34m\u001b[0m\u001b[0m\n",
      "\u001b[0;31mFileNotFoundError\u001b[0m: [Errno 2] No such file or directory: './chaos_MR_T2_normalized/classmap_1.json'"
     ]
    }
   ],
   "source": [
    "with open(fid, 'w') as fopen:\n",
    "    json.dump(classmap, fopen)\n",
    "    fopen.close()"
   ]
  },
  {
   "cell_type": "code",
   "execution_count": null,
   "metadata": {},
   "outputs": [],
   "source": []
  }
 ],
 "metadata": {
  "kernelspec": {
   "display_name": "Python 3 (ipykernel)",
   "language": "python",
   "name": "python3"
  },
  "language_info": {
   "codemirror_mode": {
    "name": "ipython",
    "version": 3
   },
   "file_extension": ".py",
   "mimetype": "text/x-python",
   "name": "python",
   "nbconvert_exporter": "python",
   "pygments_lexer": "ipython3",
   "version": "3.8.12"
  }
 },
 "nbformat": 4,
 "nbformat_minor": 2
}
